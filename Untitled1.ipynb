{
 "cells": [
  {
   "cell_type": "code",
   "execution_count": null,
   "id": "b8e7b012",
   "metadata": {},
   "outputs": [
    {
     "name": "stdout",
     "output_type": "stream",
     "text": [
      "0     0\n",
      "1     0\n",
      "2     0\n",
      "3     3\n",
      "4     0\n",
      "5     0\n",
      "6     0\n",
      "7     5\n",
      "8     0\n",
      "9     0\n",
      "10    0\n",
      "11    0\n",
      "12    0\n",
      "13    0\n",
      "14    0\n",
      "dtype: int64\n"
     ]
    }
   ],
   "source": [
    "import numpy as np\n",
    "import pandas as pd \n",
    "df=pd.read_csv(\"EEG.csv\",header=None)\n",
    "print(df.isna().sum())"
   ]
  },
  {
   "cell_type": "code",
   "execution_count": null,
   "id": "d3189b2b",
   "metadata": {},
   "outputs": [
    {
     "name": "stdout",
     "output_type": "stream",
     "text": [
      "0     0\n",
      "1     0\n",
      "2     0\n",
      "3     0\n",
      "4     0\n",
      "5     0\n",
      "6     0\n",
      "7     0\n",
      "8     0\n",
      "9     0\n",
      "10    0\n",
      "11    0\n",
      "12    0\n",
      "13    0\n",
      "14    0\n",
      "dtype: int64\n"
     ]
    }
   ],
   "source": [
    "#Handling null values\n",
    "from sklearn.impute import SimpleImputer\n",
    "si=SimpleImputer(strategy='most_frequent')\n",
    "df=pd.DataFrame(si.fit_transform(df))\n",
    "print(df.isna().sum())"
   ]
  },
  {
   "cell_type": "code",
   "execution_count": null,
   "id": "8e243a41",
   "metadata": {},
   "outputs": [],
   "source": [
    "#Deleting First row\n",
    "df.drop(index=df.index[0], axis=0, inplace=True)\n",
    "#Scaling the data\n",
    "from sklearn.preprocessing import StandardScaler\n",
    "df=pd.DataFrame(StandardScaler().fit_transform(df))"
   ]
  },
  {
   "cell_type": "code",
   "execution_count": null,
   "id": "70a54c74",
   "metadata": {},
   "outputs": [],
   "source": [
    "#Label Encoding\n",
    "from sklearn.preprocessing import LabelEncoder\n",
    "df[14]=LabelEncoder().fit_transform(df[14])"
   ]
  },
  {
   "cell_type": "code",
   "execution_count": null,
   "id": "de63f483",
   "metadata": {},
   "outputs": [
    {
     "name": "stdout",
     "output_type": "stream",
     "text": [
      "(6400,) (6400, 14)\n"
     ]
    }
   ],
   "source": [
    "target=df[14]\n",
    "data=df.drop(columns=[14])\n",
    "print(target.shape,data.shape)"
   ]
  },
  {
   "cell_type": "code",
   "execution_count": null,
   "id": "f25d9fef",
   "metadata": {},
   "outputs": [
    {
     "name": "stdout",
     "output_type": "stream",
     "text": [
      "(4480, 14) (1920, 14) (4480,) (1920,)\n"
     ]
    }
   ],
   "source": [
    "#Splitting in train and test sets \n",
    "from sklearn.model_selection import train_test_split\n",
    "x_train,x_test,y_train,y_test=train_test_split(data,target,test_size=0.3)\n",
    "print(x_train.shape,x_test.shape,y_train.shape,y_test.shape)"
   ]
  },
  {
   "cell_type": "code",
   "execution_count": null,
   "id": "079d4b28",
   "metadata": {},
   "outputs": [
    {
     "name": "stdout",
     "output_type": "stream",
     "text": [
      "Accuracy for training  0.6495535714285714\n",
      "Accuracy for testing  0.6427083333333333\n"
     ]
    }
   ],
   "source": [
    "#Logistic Regression\n",
    "from sklearn.linear_model import LogisticRegression\n",
    "from sklearn.metrics import accuracy_score\n",
    "\n",
    "model1=LogisticRegression()\n",
    "model1.fit(x_train,y_train)\n",
    "\n",
    "pred_train=model1.predict(x_train)\n",
    "pred_test=model1.predict(x_test)\n",
    "print(\"Accuracy for training \",accuracy_score(pred_train,y_train))\n",
    "print(\"Accuracy for testing \",accuracy_score(pred_test,y_test))"
   ]
  },
  {
   "cell_type": "code",
   "execution_count": null,
   "id": "5a5325e6",
   "metadata": {},
   "outputs": [
    {
     "name": "stdout",
     "output_type": "stream",
     "text": [
      "Max depth is  3\n",
      "Accuracy for training  0.7803571428571429\n",
      "Accuracy for testing  0.7\n",
      "Max depth is  4\n",
      "Accuracy for training  0.7803571428571429\n",
      "Accuracy for testing  0.6994791666666667\n",
      "Max depth is  5\n",
      "Accuracy for training  0.7803571428571429\n",
      "Accuracy for testing  0.6979166666666666\n",
      "Max depth is  6\n",
      "Accuracy for training  0.7808035714285714\n",
      "Accuracy for testing  0.7015625\n",
      "Max depth is  7\n",
      "Accuracy for training  0.7803571428571429\n",
      "Accuracy for testing  0.6973958333333333\n",
      "Max depth is  8\n",
      "Accuracy for training  0.7803571428571429\n",
      "Accuracy for testing  0.6994791666666667\n",
      "Max depth is  9\n",
      "Accuracy for training  0.7803571428571429\n",
      "Accuracy for testing  0.7005208333333334\n"
     ]
    }
   ],
   "source": [
    "#Decision Tree Classifier\n",
    "from sklearn.tree import DecisionTreeClassifier\n",
    "\n",
    "for i in range (3,10):\n",
    "    model2=DecisionTreeClassifier(criterion=\"entropy\",max_depth=9)\n",
    "    model2.fit(x_train,y_train)\n",
    "    \n",
    "    print(\"Max depth is \",i)\n",
    "    pred_train=model2.predict(x_train)\n",
    "    pred_test=model2.predict(x_test)\n",
    "    print(\"Accuracy for training \",accuracy_score(pred_train,y_train))\n",
    "    print(\"Accuracy for testing \",accuracy_score(pred_test,y_test))\n"
   ]
  },
  {
   "cell_type": "code",
   "execution_count": null,
   "id": "5e3650d8",
   "metadata": {},
   "outputs": [
    {
     "name": "stdout",
     "output_type": "stream",
     "text": [
      "K is  2\n",
      "Training accuracy is  0.9716517857142857\n",
      "Testing accuracy is  0.9151041666666667\n",
      "K is  3\n",
      "Training accuracy is  0.9761160714285714\n",
      "Testing accuracy is  0.9338541666666667\n",
      "K is  4\n",
      "Training accuracy is  0.9638392857142857\n",
      "Testing accuracy is  0.9223958333333333\n",
      "K is  5\n",
      "Training accuracy is  0.9602678571428571\n",
      "Testing accuracy is  0.928125\n",
      "K is  6\n",
      "Training accuracy is  0.9506696428571428\n",
      "Testing accuracy is  0.9229166666666667\n",
      "K is  7\n",
      "Training accuracy is  0.9502232142857143\n",
      "Testing accuracy is  0.9234375\n",
      "K is  8\n",
      "Training accuracy is  0.9444196428571429\n",
      "Testing accuracy is  0.9244791666666666\n",
      "K is  9\n",
      "Training accuracy is  0.9433035714285715\n",
      "Testing accuracy is  0.9203125\n",
      "K is  10\n",
      "Training accuracy is  0.9381696428571429\n",
      "Testing accuracy is  0.91875\n"
     ]
    }
   ],
   "source": [
    "#K Nearest Neighbours\n",
    "from sklearn.neighbors import KNeighborsClassifier\n",
    "model3=KNeighborsClassifier(n_neighbors=4)\n",
    "model3.fit(x_train,y_train)\n",
    "\n",
    "for i in range(2,11):\n",
    "    model3=KNeighborsClassifier(n_neighbors=i)\n",
    "    model3.fit(x_train,y_train)\n",
    "    print(\"K is \",i)\n",
    "    train_pred=model3.predict(x_train)\n",
    "    test_pred=model3.predict(x_test)\n",
    "    print(\"Training accuracy is \", accuracy_score(train_pred,y_train))\n",
    "    print(\"Testing accuracy is \", accuracy_score(test_pred,y_test))"
   ]
  },
  {
   "cell_type": "code",
   "execution_count": null,
   "id": "debbd509",
   "metadata": {},
   "outputs": [
    {
     "name": "stdout",
     "output_type": "stream",
     "text": [
      "Training accuracy is  0.9196428571428571\n",
      "Testing accuracy is  0.9078125\n"
     ]
    }
   ],
   "source": [
    "#SVM\n",
    "from sklearn.svm import SVC\n",
    "model4=SVC(kernel=\"rbf\")\n",
    "model4.fit(x_train,y_train)\n",
    "\n",
    "train_pred=model4.predict(x_train)\n",
    "test_pred=model4.predict(x_test)\n",
    "print(\"Training accuracy is \", accuracy_score(train_pred,y_train))\n",
    "print(\"Testing accuracy is \", accuracy_score(test_pred,y_test))"
   ]
  },
  {
   "cell_type": "code",
   "execution_count": null,
   "id": "42195d4f",
   "metadata": {},
   "outputs": [
    {
     "name": "stdout",
     "output_type": "stream",
     "text": [
      "Training accuracy is  0.9979910714285715\n",
      "Testing accuracy is  0.909375\n"
     ]
    }
   ],
   "source": [
    "#Random Forest\n",
    "from sklearn.ensemble import RandomForestClassifier  \n",
    "model5= RandomForestClassifier(n_estimators= 10, criterion=\"entropy\")  \n",
    "model5.fit(x_train, y_train)  \n",
    "\n",
    "train_pred=model5.predict(x_train)\n",
    "test_pred=model5.predict(x_test)\n",
    "print(\"Training accuracy is \", accuracy_score(train_pred,y_train))\n",
    "print(\"Testing accuracy is \", accuracy_score(test_pred,y_test))"
   ]
  },
  {
   "cell_type": "code",
   "execution_count": null,
   "id": "15d3f1e4",
   "metadata": {},
   "outputs": [],
   "source": []
  }
 ],
 "metadata": {
  "kernelspec": {
   "display_name": "base",
   "language": "python",
   "name": "python3"
  },
  "language_info": {
   "codemirror_mode": {
    "name": "ipython",
    "version": 3
   },
   "file_extension": ".py",
   "mimetype": "text/x-python",
   "name": "python",
   "nbconvert_exporter": "python",
   "pygments_lexer": "ipython3",
   "version": "3.9.13 (main, Aug 25 2022, 23:51:50) [MSC v.1916 64 bit (AMD64)]"
  },
  "vscode": {
   "interpreter": {
    "hash": "ad2bdc8ecc057115af97d19610ffacc2b4e99fae6737bb82f5d7fb13d2f2c186"
   }
  }
 },
 "nbformat": 4,
 "nbformat_minor": 5
}
